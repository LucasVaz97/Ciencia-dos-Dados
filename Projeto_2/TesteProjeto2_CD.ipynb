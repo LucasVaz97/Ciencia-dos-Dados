{
 "cells": [
  {
   "cell_type": "code",
   "execution_count": 1,
   "metadata": {
    "collapsed": true
   },
   "outputs": [],
   "source": [
    "import pandas as pd\n",
    "dados=pd.read_excel(\"teste.xlsx\")\n",
    "dados2=pd.read_excel(\"teste.xlsx\",sheetname=\"teste\")\n",
    "pd.options.mode.chained_assignment = None"
   ]
  },
  {
   "cell_type": "code",
   "execution_count": 2,
   "metadata": {
    "collapsed": true
   },
   "outputs": [],
   "source": [
    "def palavrasposs(x,y):                   \n",
    "    palavras=[]\n",
    "    for i in range(len(x[y])):\n",
    "        for g in x[y][i].split():\n",
    "            if g not in palavras:\n",
    "                palavras.append(g)\n",
    "    \n",
    "    return palavras\n",
    "\n",
    "def contador_rel_ir(x,y,z,n):         \n",
    "    index=[]\n",
    "    frases=[]\n",
    "    palavras=[]\n",
    "    for i in range(len(x[z])):\n",
    "        if x[z][i]==n:\n",
    "            index.append(i)\n",
    "    \n",
    "    for i in index:\n",
    "        frases.append(x[y][i])\n",
    "        \n",
    "    for i in range(len(frases)):\n",
    "        for g in frases[i].split():\n",
    "            palavras.append(g)\n",
    "    \n",
    "    return (palavras,index)               \n",
    "\n",
    "def vezes(x,y):\n",
    "    contador=0\n",
    "    for i in x:\n",
    "        if i==y:\n",
    "            contador=contador+1\n",
    "    \n",
    "    return contador\n",
    "\n",
    "def numero(x,y,z):\n",
    "    num=0\n",
    "    for i in x[y]:\n",
    "        if i==z:\n",
    "            num=num+1\n",
    "    return num\n",
    "\n",
    "def listal(x,y):\n",
    "    lista=[]\n",
    "    for i in range(len(x[y])):\n",
    "        a=x[y][i].split()\n",
    "        lista.append(a)\n",
    "    \n",
    "    return lista\n",
    "\n",
    "def frequencia(x,y):\n",
    "    lista=[]\n",
    "    for g in range(len(x)):\n",
    "        valores=[]\n",
    "        lista.append(valores)\n",
    "        for i in range(len(x[g])):\n",
    "            valores.append(vezes(y,x[g][i]))\n",
    "    \n",
    "    return lista\n",
    "\n",
    "def Pd_rel_ir(x,y):\n",
    "    lista=[]\n",
    "    for g in range(len(x)):\n",
    "        valores=[]\n",
    "        lista.append(valores)\n",
    "        for i in range(len(x[g])):\n",
    "            valor=(x[g][i]+1)/y\n",
    "            valores.append(valor)\n",
    "    return lista\n",
    "\n",
    "\n",
    "def multiplica(x):\n",
    "    cont=1\n",
    "    for i in x:\n",
    "        cont=cont*i\n",
    "    return cont\n",
    "\n",
    "\n",
    "def valorf(x,y):\n",
    "    valor=[]\n",
    "    for i in range(len(x)):\n",
    "        lista=x[i]\n",
    "        valor.append(multiplica(lista)*(y))\n",
    "    return valor\n",
    "\n",
    "def setdata(x,y,w,z):\n",
    "    for i in range(len(w)):\n",
    "        if w[i]>z[i]:\n",
    "            x[y][i]=\"esports\"\n",
    "        else:\n",
    "            x[y][i]=\"elec\"\n"
   ]
  },
  {
   "cell_type": "code",
   "execution_count": 3,
   "metadata": {
    "collapsed": false
   },
   "outputs": [
    {
     "name": "stdout",
     "output_type": "stream",
     "text": [
      "25 23\n",
      "0.6 0.4\n"
     ]
    }
   ],
   "source": [
    "esportsp=(len(contador_rel_ir(dados,\"treinando\",\"tipo\",\"esports\")[0]))\n",
    "elecp=(len(contador_rel_ir(dados,\"treinando\",\"tipo\",\"elec\")[0]))\n",
    "palavraspos=len(palavrasposs(dados,\"treinando\"))\n",
    "\n",
    "esportmais=esportsp+palavraspos\n",
    "elecmais=elecp+palavraspos\n",
    "Esports=numero(dados,\"tipo\",\"esports\")/len(dados)\n",
    "Elec=numero(dados,\"tipo\",\"elec\")/len(dados)\n",
    "\n",
    "print(esportmais,elecmais)\n",
    "print(Esports,Elec)\n"
   ]
  },
  {
   "cell_type": "code",
   "execution_count": 4,
   "metadata": {
    "collapsed": false
   },
   "outputs": [
    {
     "name": "stdout",
     "output_type": "stream",
     "text": [
      "[['a', 'very', 'close', 'game'], ['a', 'nice', 'game', 'to', 'watch'], ['the', 'final', 'week', 'of', 'the', 'election'], ['trump', 'won', 'the', 'election'], ['a', 'clean', 'and', 'great', 'match']]\n",
      "['a', 'great', 'game', 'very', 'clean', 'match', 'a', 'clean', 'but', 'forgettable', 'game']\n",
      "['the', 'election', 'was', 'over', 'it', 'was', 'a', 'close', 'election']\n"
     ]
    }
   ],
   "source": [
    "listaFrases=listal(dados2,\"treinando\")\n",
    "PalavrasPosEs=contador_rel_ir(dados,\"treinando\",\"tipo\",\"esports\")[0]\n",
    "PalavrasPosElc=contador_rel_ir(dados,\"treinando\",\"tipo\",\"elec\")[0]\n",
    "\n",
    "print(listaFrases)\n",
    "print(PalavrasPosEs)\n",
    "print(PalavrasPosElc)"
   ]
  },
  {
   "cell_type": "code",
   "execution_count": 10,
   "metadata": {
    "collapsed": false
   },
   "outputs": [
    {
     "name": "stdout",
     "output_type": "stream",
     "text": [
      "[[2, 1, 0, 2], [2, 0, 2, 0, 0], [0, 0, 0, 0, 0, 0], [0, 0, 0, 0], [2, 2, 0, 1, 1]]\n",
      "[[1, 0, 1, 0], [1, 0, 0, 0, 0], [1, 0, 0, 0, 1, 2], [0, 0, 1, 2], [1, 0, 0, 0, 0]]\n"
     ]
    }
   ],
   "source": [
    "frequenciaEs=(frequencia(listaFrases,PalavrasPosEs))\n",
    "frequenciaElc=(frequencia(listaFrases,PalavrasPosElc))\n",
    "print(frequenciaEs)\n",
    "print(frequenciaElc)"
   ]
  },
  {
   "cell_type": "code",
   "execution_count": 6,
   "metadata": {
    "collapsed": false
   },
   "outputs": [
    {
     "name": "stdout",
     "output_type": "stream",
     "text": [
      "[[0.12, 0.08, 0.04, 0.12], [0.12, 0.04, 0.12, 0.04, 0.04], [0.04, 0.04, 0.04, 0.04, 0.04, 0.04], [0.04, 0.04, 0.04, 0.04], [0.12, 0.12, 0.04, 0.08, 0.08]]\n",
      "[[0.08695652173913043, 0.043478260869565216, 0.08695652173913043, 0.043478260869565216], [0.08695652173913043, 0.043478260869565216, 0.043478260869565216, 0.043478260869565216, 0.043478260869565216], [0.08695652173913043, 0.043478260869565216, 0.043478260869565216, 0.043478260869565216, 0.08695652173913043, 0.13043478260869565], [0.043478260869565216, 0.043478260869565216, 0.08695652173913043, 0.13043478260869565], [0.08695652173913043, 0.043478260869565216, 0.043478260869565216, 0.043478260869565216, 0.043478260869565216]]\n"
     ]
    }
   ],
   "source": [
    "PdEsports=Pd_rel_ir(frequenciaEs,esportmais)\n",
    "PdElec=Pd_rel_ir(frequenciaElc,elecmais)\n",
    "print(PdEsports)\n",
    "print(PdElec)"
   ]
  },
  {
   "cell_type": "code",
   "execution_count": 7,
   "metadata": {
    "collapsed": false
   },
   "outputs": [
    {
     "name": "stdout",
     "output_type": "stream",
     "text": [
      "[2.7647999999999993e-05, 5.529599999999999e-07, 2.4576000000000003e-09, 1.5360000000000002e-06, 2.21184e-06]\n",
      "[5.7175324559303314e-06, 1.242941838245724e-07, 3.242456969336671e-08, 8.576298683895497e-06, 1.242941838245724e-07]\n"
     ]
    }
   ],
   "source": [
    "ValorFinalES=valorf(PdEsports,Esports)\n",
    "ValorFinalElec=valorf(PdElec,Elec)\n",
    "print(ValorFinalES)\n",
    "print(ValorFinalElec)"
   ]
  },
  {
   "cell_type": "code",
   "execution_count": 8,
   "metadata": {
    "collapsed": false
   },
   "outputs": [
    {
     "data": {
      "text/html": [
       "<div>\n",
       "<table border=\"1\" class=\"dataframe\">\n",
       "  <thead>\n",
       "    <tr style=\"text-align: right;\">\n",
       "      <th></th>\n",
       "      <th>treinando</th>\n",
       "      <th>tipo</th>\n",
       "      <th>tipoteste</th>\n",
       "    </tr>\n",
       "  </thead>\n",
       "  <tbody>\n",
       "    <tr>\n",
       "      <th>0</th>\n",
       "      <td>a very close  game</td>\n",
       "      <td>esport</td>\n",
       "      <td>esports</td>\n",
       "    </tr>\n",
       "    <tr>\n",
       "      <th>1</th>\n",
       "      <td>a nice game to watch</td>\n",
       "      <td>esport</td>\n",
       "      <td>esports</td>\n",
       "    </tr>\n",
       "    <tr>\n",
       "      <th>2</th>\n",
       "      <td>the final week of the election</td>\n",
       "      <td>elec</td>\n",
       "      <td>elec</td>\n",
       "    </tr>\n",
       "    <tr>\n",
       "      <th>3</th>\n",
       "      <td>trump won the election</td>\n",
       "      <td>elec</td>\n",
       "      <td>elec</td>\n",
       "    </tr>\n",
       "    <tr>\n",
       "      <th>4</th>\n",
       "      <td>a clean and great match</td>\n",
       "      <td>esport</td>\n",
       "      <td>esports</td>\n",
       "    </tr>\n",
       "  </tbody>\n",
       "</table>\n",
       "</div>"
      ],
      "text/plain": [
       "                        treinando    tipo tipoteste\n",
       "0              a very close  game  esport   esports\n",
       "1            a nice game to watch  esport   esports\n",
       "2  the final week of the election    elec      elec\n",
       "3          trump won the election    elec      elec\n",
       "4         a clean and great match  esport   esports"
      ]
     },
     "execution_count": 8,
     "metadata": {},
     "output_type": "execute_result"
    }
   ],
   "source": [
    "setdata(dados2,\"tipoteste\",ValorFinalES,ValorFinalElec)\n",
    "\n",
    "dados2"
   ]
  },
  {
   "cell_type": "code",
   "execution_count": null,
   "metadata": {
    "collapsed": false
   },
   "outputs": [],
   "source": []
  },
  {
   "cell_type": "code",
   "execution_count": null,
   "metadata": {
    "collapsed": false
   },
   "outputs": [],
   "source": []
  },
  {
   "cell_type": "code",
   "execution_count": null,
   "metadata": {
    "collapsed": false
   },
   "outputs": [],
   "source": []
  },
  {
   "cell_type": "code",
   "execution_count": null,
   "metadata": {
    "collapsed": false
   },
   "outputs": [],
   "source": []
  },
  {
   "cell_type": "code",
   "execution_count": null,
   "metadata": {
    "collapsed": true
   },
   "outputs": [],
   "source": []
  }
 ],
 "metadata": {
  "kernelspec": {
   "display_name": "Python 3",
   "language": "python",
   "name": "python3"
  },
  "language_info": {
   "codemirror_mode": {
    "name": "ipython",
    "version": 3
   },
   "file_extension": ".py",
   "mimetype": "text/x-python",
   "name": "python",
   "nbconvert_exporter": "python",
   "pygments_lexer": "ipython3",
   "version": "3.6.0"
  }
 },
 "nbformat": 4,
 "nbformat_minor": 2
}
