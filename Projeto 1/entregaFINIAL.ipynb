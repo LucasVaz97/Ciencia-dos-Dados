{
 "cells": [
  {
   "cell_type": "markdown",
   "metadata": {},
   "source": [
    "___\n",
    "# Ciência dos Dados - PROJETO 1"
   ]
  },
  {
   "cell_type": "markdown",
   "metadata": {},
   "source": [
    "## COLOQUE AQUI SEU NOME\n",
    "___"
   ]
  },
  {
   "cell_type": "markdown",
   "metadata": {},
   "source": [
    "## Aparelhos e internet"
   ]
  },
  {
   "cell_type": "markdown",
   "metadata": {},
   "source": [
    "___\n",
    "## Introdução\n",
    "A pesquisa tem o intuito de descobrir qual é o melhor investimento em aparelhos eletronicos  que acessam internet, com o objetivo no investimento de sofwares on lines e venda de hardwares."
   ]
  },
  {
   "cell_type": "markdown",
   "metadata": {},
   "source": [
    "\n",
    "Para isso sera necessário analizar qual foi o aparelho que mais cresceu no numero de usuarios do ano de 2013 á 2015\n"
   ]
  },
  {
   "cell_type": "code",
   "execution_count": 1,
   "metadata": {
    "collapsed": true
   },
   "outputs": [],
   "source": [
    "%matplotlib inline\n",
    "import pandas as pd\n",
    "import matplotlib.pyplot as plt\n",
    "import numpy as np\n",
    "import os"
   ]
  },
  {
   "cell_type": "code",
   "execution_count": 2,
   "metadata": {
    "collapsed": false
   },
   "outputs": [
    {
     "name": "stdout",
     "output_type": "stream",
     "text": [
      "Esperamos trabalhar no diretório\n",
      "/Users/lucasvaz/Documents/insper/cd/projeto1/Ciencia-dos-Dados\n"
     ]
    }
   ],
   "source": [
    "print('Esperamos trabalhar no diretório')\n",
    "print(os.getcwd())\n"
   ]
  },
  {
   "cell_type": "code",
   "execution_count": 3,
   "metadata": {
    "collapsed": false
   },
   "outputs": [],
   "source": [
    "#Se usar o arquivo descompactado\n",
    "#pd.read_csv('DOM2015.csv',sep=',')\n",
    "dados=pd.read_csv(\"DOM2015.csv\")\n",
    "dados2=pd.read_csv(\"DOM2013.csv\")\n",
    "dados2015=pd.read_excel(\"dados2015.xlsx\")\n",
    "dados2013=pd.read_excel(\"dados2013.xlsx\")\n",
    "#Se usar o arquivo compactado como está no dropbox púbico\n",
    "#pd.read_csv('DOM2015csv.zip', compression='zip', header=0, sep=',', quotechar='\"'"
   ]
  },
  {
   "cell_type": "code",
   "execution_count": 4,
   "metadata": {
    "collapsed": false
   },
   "outputs": [
    {
     "data": {
      "text/html": [
       "<div>\n",
       "<table border=\"1\" class=\"dataframe\">\n",
       "  <thead>\n",
       "    <tr style=\"text-align: right;\">\n",
       "      <th></th>\n",
       "      <th>Ano</th>\n",
       "      <th>Estado</th>\n",
       "      <th>netCelular</th>\n",
       "      <th>netMicroComputador</th>\n",
       "      <th>netTablet</th>\n",
       "      <th>netTv</th>\n",
       "      <th>netOutros</th>\n",
       "      <th>SaláriosMin</th>\n",
       "      <th>zona</th>\n",
       "      <th>Região</th>\n",
       "      <th>situação_censitária</th>\n",
       "    </tr>\n",
       "  </thead>\n",
       "  <tbody>\n",
       "    <tr>\n",
       "      <th>2</th>\n",
       "      <td>2015</td>\n",
       "      <td>11</td>\n",
       "      <td>não tem acesso</td>\n",
       "      <td>tem acesso</td>\n",
       "      <td>não tem acesso</td>\n",
       "      <td>não tem acesso</td>\n",
       "      <td>não tem acesso</td>\n",
       "      <td>2.0</td>\n",
       "      <td>1.0</td>\n",
       "      <td>Norte</td>\n",
       "      <td>Urbana</td>\n",
       "    </tr>\n",
       "    <tr>\n",
       "      <th>3</th>\n",
       "      <td>2015</td>\n",
       "      <td>11</td>\n",
       "      <td>tem acesso</td>\n",
       "      <td>tem acesso</td>\n",
       "      <td>não tem acesso</td>\n",
       "      <td>não tem acesso</td>\n",
       "      <td>não tem acesso</td>\n",
       "      <td>2.0</td>\n",
       "      <td>1.0</td>\n",
       "      <td>Norte</td>\n",
       "      <td>Urbana</td>\n",
       "    </tr>\n",
       "    <tr>\n",
       "      <th>5</th>\n",
       "      <td>2015</td>\n",
       "      <td>11</td>\n",
       "      <td>não tem acesso</td>\n",
       "      <td>tem acesso</td>\n",
       "      <td>não tem acesso</td>\n",
       "      <td>não tem acesso</td>\n",
       "      <td>não tem acesso</td>\n",
       "      <td>2.5</td>\n",
       "      <td>1.0</td>\n",
       "      <td>Norte</td>\n",
       "      <td>Urbana</td>\n",
       "    </tr>\n",
       "    <tr>\n",
       "      <th>8</th>\n",
       "      <td>2015</td>\n",
       "      <td>11</td>\n",
       "      <td>tem acesso</td>\n",
       "      <td>tem acesso</td>\n",
       "      <td>não tem acesso</td>\n",
       "      <td>não tem acesso</td>\n",
       "      <td>não tem acesso</td>\n",
       "      <td>2.0</td>\n",
       "      <td>1.0</td>\n",
       "      <td>Norte</td>\n",
       "      <td>Urbana</td>\n",
       "    </tr>\n",
       "    <tr>\n",
       "      <th>10</th>\n",
       "      <td>2015</td>\n",
       "      <td>11</td>\n",
       "      <td>tem acesso</td>\n",
       "      <td>tem acesso</td>\n",
       "      <td>não tem acesso</td>\n",
       "      <td>não tem acesso</td>\n",
       "      <td>não tem acesso</td>\n",
       "      <td>2.5</td>\n",
       "      <td>1.0</td>\n",
       "      <td>Norte</td>\n",
       "      <td>Urbana</td>\n",
       "    </tr>\n",
       "    <tr>\n",
       "      <th>11</th>\n",
       "      <td>2015</td>\n",
       "      <td>11</td>\n",
       "      <td>tem acesso</td>\n",
       "      <td>tem acesso</td>\n",
       "      <td>não tem acesso</td>\n",
       "      <td>não tem acesso</td>\n",
       "      <td>não tem acesso</td>\n",
       "      <td>3.0</td>\n",
       "      <td>1.0</td>\n",
       "      <td>Norte</td>\n",
       "      <td>Urbana</td>\n",
       "    </tr>\n",
       "    <tr>\n",
       "      <th>13</th>\n",
       "      <td>2015</td>\n",
       "      <td>11</td>\n",
       "      <td>tem acesso</td>\n",
       "      <td>tem acesso</td>\n",
       "      <td>não tem acesso</td>\n",
       "      <td>não tem acesso</td>\n",
       "      <td>não tem acesso</td>\n",
       "      <td>2.0</td>\n",
       "      <td>1.0</td>\n",
       "      <td>Norte</td>\n",
       "      <td>Urbana</td>\n",
       "    </tr>\n",
       "    <tr>\n",
       "      <th>15</th>\n",
       "      <td>2015</td>\n",
       "      <td>11</td>\n",
       "      <td>tem acesso</td>\n",
       "      <td>tem acesso</td>\n",
       "      <td>não tem acesso</td>\n",
       "      <td>não tem acesso</td>\n",
       "      <td>não tem acesso</td>\n",
       "      <td>1.5</td>\n",
       "      <td>1.0</td>\n",
       "      <td>Norte</td>\n",
       "      <td>Urbana</td>\n",
       "    </tr>\n",
       "    <tr>\n",
       "      <th>17</th>\n",
       "      <td>2015</td>\n",
       "      <td>11</td>\n",
       "      <td>tem acesso</td>\n",
       "      <td>não tem acesso</td>\n",
       "      <td>tem acesso</td>\n",
       "      <td>não tem acesso</td>\n",
       "      <td>não tem acesso</td>\n",
       "      <td>1.5</td>\n",
       "      <td>1.0</td>\n",
       "      <td>Norte</td>\n",
       "      <td>Urbana</td>\n",
       "    </tr>\n",
       "    <tr>\n",
       "      <th>18</th>\n",
       "      <td>2015</td>\n",
       "      <td>11</td>\n",
       "      <td>tem acesso</td>\n",
       "      <td>tem acesso</td>\n",
       "      <td>não tem acesso</td>\n",
       "      <td>não tem acesso</td>\n",
       "      <td>não tem acesso</td>\n",
       "      <td>2.0</td>\n",
       "      <td>1.0</td>\n",
       "      <td>Norte</td>\n",
       "      <td>Urbana</td>\n",
       "    </tr>\n",
       "  </tbody>\n",
       "</table>\n",
       "</div>"
      ],
      "text/plain": [
       "     Ano  Estado      netCelular netMicroComputador       netTablet  \\\n",
       "2   2015      11  não tem acesso         tem acesso  não tem acesso   \n",
       "3   2015      11      tem acesso         tem acesso  não tem acesso   \n",
       "5   2015      11  não tem acesso         tem acesso  não tem acesso   \n",
       "8   2015      11      tem acesso         tem acesso  não tem acesso   \n",
       "10  2015      11      tem acesso         tem acesso  não tem acesso   \n",
       "11  2015      11      tem acesso         tem acesso  não tem acesso   \n",
       "13  2015      11      tem acesso         tem acesso  não tem acesso   \n",
       "15  2015      11      tem acesso         tem acesso  não tem acesso   \n",
       "17  2015      11      tem acesso     não tem acesso      tem acesso   \n",
       "18  2015      11      tem acesso         tem acesso  não tem acesso   \n",
       "\n",
       "             netTv       netOutros  SaláriosMin  zona Região  \\\n",
       "2   não tem acesso  não tem acesso          2.0   1.0  Norte   \n",
       "3   não tem acesso  não tem acesso          2.0   1.0  Norte   \n",
       "5   não tem acesso  não tem acesso          2.5   1.0  Norte   \n",
       "8   não tem acesso  não tem acesso          2.0   1.0  Norte   \n",
       "10  não tem acesso  não tem acesso          2.5   1.0  Norte   \n",
       "11  não tem acesso  não tem acesso          3.0   1.0  Norte   \n",
       "13  não tem acesso  não tem acesso          2.0   1.0  Norte   \n",
       "15  não tem acesso  não tem acesso          1.5   1.0  Norte   \n",
       "17  não tem acesso  não tem acesso          1.5   1.0  Norte   \n",
       "18  não tem acesso  não tem acesso          2.0   1.0  Norte   \n",
       "\n",
       "   situação_censitária  \n",
       "2               Urbana  \n",
       "3               Urbana  \n",
       "5               Urbana  \n",
       "8               Urbana  \n",
       "10              Urbana  \n",
       "11              Urbana  \n",
       "13              Urbana  \n",
       "15              Urbana  \n",
       "17              Urbana  \n",
       "18              Urbana  "
      ]
     },
     "execution_count": 4,
     "metadata": {},
     "output_type": "execute_result"
    }
   ],
   "source": [
    "#Filtrando dados desejados\n",
    "\n",
    "netcell=dados.V02324\n",
    "netcomp=dados.V02323\n",
    "nettablet=dados.V02325\n",
    "nettv=dados.V02326\n",
    "netoutro=dados.V02327\n",
    "estado=dados.UF\n",
    "ano=dados.V0101\n",
    "zona=dados.V4105\n",
    "\n",
    "dados.loc[(dados.V4622==0),\"Salários_minimos\"]=0\n",
    "for i in range(1,7):\n",
    "    dados.loc[(dados.V4622==i),\"Salários_minimos\"]=0.5*i\n",
    "\n",
    "#novo data frame\n",
    "\n",
    "DF = pd.DataFrame()\n",
    "\n",
    "#Dando nomes\n",
    "\n",
    "DF[\"Ano\"]=ano\n",
    "DF[\"Estado\"]=estado\n",
    "DF[\"netCelular\"]=netcell\n",
    "DF[\"netMicroComputador\"]=netcomp\n",
    "DF[\"netTablet\"]=nettablet\n",
    "DF[\"netTv\"]=nettv\n",
    "DF[\"netOutros\"]=netoutro\n",
    "DF[\"SaláriosMin\"]=dados.Salários_minimos\n",
    "DF[\"zona\"]=zona\n",
    "\n",
    "\n",
    "\n",
    "\n",
    "#transformando variaveis\n",
    "\n",
    "DF.Ano=DF.Ano.astype(\"category\")\n",
    "DF.estado=DF.Estado.astype(\"category\")\n",
    "DF.netCelular=DF.netCelular.astype(\"category\")\n",
    "DF.netMicroComputador=DF.netMicroComputador.astype(\"category\")\n",
    "DF.netTablet=DF.netTablet.astype(\"category\")\n",
    "DF.netTv=DF.netTv.astype(\"category\")\n",
    "DF.netOutros=DF.netOutros.astype(\"category\")\n",
    "DF.zona=DF.zona.astype(\"float\")\n",
    "DF.SaláriosMin = DF.SaláriosMin.astype(\"float\")\n",
    "\n",
    "\n",
    "\n",
    "#Traduzindo Numeros\n",
    "\n",
    "DF.netCelular.cat.categories = ([\"tem acesso\", \"não tem acesso\"])\n",
    "DF.netMicroComputador.cat.categories = ([\"tem acesso\", \"não tem acesso\"])\n",
    "DF.netTablet.cat.categories = ([\"tem acesso\", \"não tem acesso\"])\n",
    "DF.netTv.cat.categories = ([\"tem acesso\", \"não tem acesso\"])\n",
    "DF.netOutros.cat.categories = ([\"tem acesso\", \"não tem acesso\"])\n",
    "DF.loc[(DF.Estado<= 17), \"Região\"] = \"Norte\"\n",
    "DF.loc[(DF.Estado > 17) & (DF.Estado <=29 ),\"Região\"] = \"Nordeste\"\n",
    "DF.loc[(DF.Estado >=31) & (DF.Estado <= 35),\"Região\"] = \"Sudeste\"\n",
    "DF.loc[(DF.Estado >=41) & (DF.Estado <= 43),\"Região\"] = \"Sul\"\n",
    "DF.loc[(DF.Estado >=50), \"Região\"] = \"Centro\"\n",
    "DF.loc[(DF.zona <=3), \"situação_censitária\"] = \"Urbana\"\n",
    "DF.loc[(DF.zona >3), \"situação_censitária\"] = \"Rural\"\n",
    "DF=DF.dropna(how='any')\n",
    "DF.head(10)\n"
   ]
  },
  {
   "cell_type": "code",
   "execution_count": 5,
   "metadata": {
    "collapsed": false
   },
   "outputs": [
    {
     "data": {
      "text/html": [
       "<div>\n",
       "<table border=\"1\" class=\"dataframe\">\n",
       "  <thead>\n",
       "    <tr style=\"text-align: right;\">\n",
       "      <th></th>\n",
       "      <th>Ano</th>\n",
       "      <th>Estado</th>\n",
       "      <th>netCelular</th>\n",
       "      <th>netMicroComputador</th>\n",
       "      <th>netTablet</th>\n",
       "      <th>netTv</th>\n",
       "      <th>netOutros</th>\n",
       "      <th>SaláriosMin</th>\n",
       "      <th>Região</th>\n",
       "    </tr>\n",
       "  </thead>\n",
       "  <tbody>\n",
       "    <tr>\n",
       "      <th>7</th>\n",
       "      <td>2013</td>\n",
       "      <td>11</td>\n",
       "      <td>tem acesso</td>\n",
       "      <td>tem acesso</td>\n",
       "      <td>não tem acesso</td>\n",
       "      <td>não tem acesso</td>\n",
       "      <td>não tem acesso</td>\n",
       "      <td>2.0</td>\n",
       "      <td>Norte</td>\n",
       "    </tr>\n",
       "    <tr>\n",
       "      <th>8</th>\n",
       "      <td>2013</td>\n",
       "      <td>11</td>\n",
       "      <td>tem acesso</td>\n",
       "      <td>tem acesso</td>\n",
       "      <td>não tem acesso</td>\n",
       "      <td>não tem acesso</td>\n",
       "      <td>não tem acesso</td>\n",
       "      <td>2.0</td>\n",
       "      <td>Norte</td>\n",
       "    </tr>\n",
       "    <tr>\n",
       "      <th>17</th>\n",
       "      <td>2013</td>\n",
       "      <td>11</td>\n",
       "      <td>não tem acesso</td>\n",
       "      <td>tem acesso</td>\n",
       "      <td>não tem acesso</td>\n",
       "      <td>não tem acesso</td>\n",
       "      <td>não tem acesso</td>\n",
       "      <td>1.5</td>\n",
       "      <td>Norte</td>\n",
       "    </tr>\n",
       "    <tr>\n",
       "      <th>28</th>\n",
       "      <td>2013</td>\n",
       "      <td>11</td>\n",
       "      <td>não tem acesso</td>\n",
       "      <td>tem acesso</td>\n",
       "      <td>não tem acesso</td>\n",
       "      <td>não tem acesso</td>\n",
       "      <td>não tem acesso</td>\n",
       "      <td>3.0</td>\n",
       "      <td>Norte</td>\n",
       "    </tr>\n",
       "    <tr>\n",
       "      <th>29</th>\n",
       "      <td>2013</td>\n",
       "      <td>11</td>\n",
       "      <td>não tem acesso</td>\n",
       "      <td>tem acesso</td>\n",
       "      <td>tem acesso</td>\n",
       "      <td>não tem acesso</td>\n",
       "      <td>não tem acesso</td>\n",
       "      <td>2.0</td>\n",
       "      <td>Norte</td>\n",
       "    </tr>\n",
       "    <tr>\n",
       "      <th>31</th>\n",
       "      <td>2013</td>\n",
       "      <td>11</td>\n",
       "      <td>tem acesso</td>\n",
       "      <td>tem acesso</td>\n",
       "      <td>não tem acesso</td>\n",
       "      <td>não tem acesso</td>\n",
       "      <td>não tem acesso</td>\n",
       "      <td>3.0</td>\n",
       "      <td>Norte</td>\n",
       "    </tr>\n",
       "    <tr>\n",
       "      <th>32</th>\n",
       "      <td>2013</td>\n",
       "      <td>11</td>\n",
       "      <td>não tem acesso</td>\n",
       "      <td>tem acesso</td>\n",
       "      <td>não tem acesso</td>\n",
       "      <td>não tem acesso</td>\n",
       "      <td>não tem acesso</td>\n",
       "      <td>1.0</td>\n",
       "      <td>Norte</td>\n",
       "    </tr>\n",
       "    <tr>\n",
       "      <th>36</th>\n",
       "      <td>2013</td>\n",
       "      <td>11</td>\n",
       "      <td>tem acesso</td>\n",
       "      <td>tem acesso</td>\n",
       "      <td>não tem acesso</td>\n",
       "      <td>não tem acesso</td>\n",
       "      <td>não tem acesso</td>\n",
       "      <td>0.5</td>\n",
       "      <td>Norte</td>\n",
       "    </tr>\n",
       "    <tr>\n",
       "      <th>40</th>\n",
       "      <td>2013</td>\n",
       "      <td>11</td>\n",
       "      <td>não tem acesso</td>\n",
       "      <td>tem acesso</td>\n",
       "      <td>não tem acesso</td>\n",
       "      <td>não tem acesso</td>\n",
       "      <td>não tem acesso</td>\n",
       "      <td>1.5</td>\n",
       "      <td>Norte</td>\n",
       "    </tr>\n",
       "    <tr>\n",
       "      <th>43</th>\n",
       "      <td>2013</td>\n",
       "      <td>11</td>\n",
       "      <td>não tem acesso</td>\n",
       "      <td>tem acesso</td>\n",
       "      <td>não tem acesso</td>\n",
       "      <td>não tem acesso</td>\n",
       "      <td>não tem acesso</td>\n",
       "      <td>2.0</td>\n",
       "      <td>Norte</td>\n",
       "    </tr>\n",
       "  </tbody>\n",
       "</table>\n",
       "</div>"
      ],
      "text/plain": [
       "     Ano  Estado      netCelular netMicroComputador       netTablet  \\\n",
       "7   2013      11      tem acesso         tem acesso  não tem acesso   \n",
       "8   2013      11      tem acesso         tem acesso  não tem acesso   \n",
       "17  2013      11  não tem acesso         tem acesso  não tem acesso   \n",
       "28  2013      11  não tem acesso         tem acesso  não tem acesso   \n",
       "29  2013      11  não tem acesso         tem acesso      tem acesso   \n",
       "31  2013      11      tem acesso         tem acesso  não tem acesso   \n",
       "32  2013      11  não tem acesso         tem acesso  não tem acesso   \n",
       "36  2013      11      tem acesso         tem acesso  não tem acesso   \n",
       "40  2013      11  não tem acesso         tem acesso  não tem acesso   \n",
       "43  2013      11  não tem acesso         tem acesso  não tem acesso   \n",
       "\n",
       "             netTv       netOutros  SaláriosMin Região  \n",
       "7   não tem acesso  não tem acesso          2.0  Norte  \n",
       "8   não tem acesso  não tem acesso          2.0  Norte  \n",
       "17  não tem acesso  não tem acesso          1.5  Norte  \n",
       "28  não tem acesso  não tem acesso          3.0  Norte  \n",
       "29  não tem acesso  não tem acesso          2.0  Norte  \n",
       "31  não tem acesso  não tem acesso          3.0  Norte  \n",
       "32  não tem acesso  não tem acesso          1.0  Norte  \n",
       "36  não tem acesso  não tem acesso          0.5  Norte  \n",
       "40  não tem acesso  não tem acesso          1.5  Norte  \n",
       "43  não tem acesso  não tem acesso          2.0  Norte  "
      ]
     },
     "execution_count": 5,
     "metadata": {},
     "output_type": "execute_result"
    }
   ],
   "source": [
    "#Filtrando dados desejados 2013\n",
    "\n",
    "netcell2=dados2.V02324\n",
    "netcomp2=dados2.V02323\n",
    "nettablet2=dados2.V02325\n",
    "nettv2=dados2.V02326\n",
    "netoutro2=dados2.V02327\n",
    "estado2=dados2.UF\n",
    "ano2=dados2.V0101\n",
    "\n",
    "dados2.loc[(dados2.V4622==0),\"Salários_minimos\"]=0\n",
    "for i in range(1,7):\n",
    "    dados2.loc[(dados2.V4622==i),\"Salários_minimos\"]=0.5*i\n",
    "\n",
    "#novo data frame\n",
    "\n",
    "DF2 = pd.DataFrame()\n",
    "\n",
    "#Dando nomes\n",
    "\n",
    "DF2[\"Ano\"]=ano2\n",
    "DF2[\"Estado\"]=estado2\n",
    "DF2[\"netCelular\"]=netcell2\n",
    "DF2[\"netMicroComputador\"]=netcomp2\n",
    "DF2[\"netTablet\"]=nettablet2\n",
    "DF2[\"netTv\"]=nettv2\n",
    "DF2[\"netOutros\"]=netoutro2\n",
    "DF2[\"SaláriosMin\"]=dados.Salários_minimos\n",
    "\n",
    "\n",
    "\n",
    "\n",
    "#transformando variaveis\n",
    "\n",
    "DF2.Ano=DF2.Ano.astype(\"category\")\n",
    "DF2.SaláriosMin = DF2.SaláriosMin.astype(\"float\")\n",
    "DF2.netCelular=DF2.netCelular.astype(\"category\")\n",
    "DF2.netMicroComputador=DF2.netMicroComputador.astype(\"category\")\n",
    "DF2.netTablet=DF2.netTablet.astype(\"category\")\n",
    "DF2.netTv=DF2.netTv.astype(\"category\")\n",
    "DF2.netOutros=DF2.netOutros.astype(\"category\")\n",
    "\n",
    "\n",
    "\n",
    "#Traduzindo Numeros\n",
    "\n",
    "DF2.netCelular.cat.categories = ([\"tem acesso\", \"não tem acesso\"])\n",
    "DF2.netMicroComputador.cat.categories = ([\"tem acesso\", \"não tem acesso\"])\n",
    "DF2.netTablet.cat.categories = ([\"tem acesso\", \"não tem acesso\"])\n",
    "DF2.netTv.cat.categories = ([\"tem acesso\", \"não tem acesso\"])\n",
    "DF2.netOutros.cat.categories = ([\"tem acesso\", \"não tem acesso\"])\n",
    "DF2.loc[(DF2.Estado<= 17), \"Região\"] = \"Norte\"\n",
    "DF2.loc[(DF2.Estado > 17) & (DF2.Estado <=29 ),\"Região\"] = \"Nordeste\"\n",
    "DF2.loc[(DF2.Estado >=31) & (DF2.Estado <= 35),\"Região\"] = \"Sudeste\"\n",
    "DF2.loc[(DF2.Estado >=41) & (DF2.Estado <= 43),\"Região\"] = \"Sul\"\n",
    "DF2.loc[(DF2.Estado >=50), \"Região\"] = \"Centro\"\n",
    "DF2=DF2.dropna(how=\"any\")\n",
    "DF2.head(10)"
   ]
  },
  {
   "cell_type": "markdown",
   "metadata": {
    "collapsed": true
   },
   "source": [
    "Descreva aqui suas conclusões!"
   ]
  },
  {
   "cell_type": "code",
   "execution_count": 6,
   "metadata": {
    "collapsed": false
   },
   "outputs": [
    {
     "name": "stdout",
     "output_type": "stream",
     "text": [
      "tem acesso        10953\n",
      "não tem acesso    50133\n",
      "Name: netTablet, dtype: int64 \n",
      "\n",
      "tem acesso        56707\n",
      "não tem acesso     4379\n",
      "Name: netCelular, dtype: int64 \n",
      "\n",
      "tem acesso        39824\n",
      "não tem acesso    21262\n",
      "Name: netMicroComputador, dtype: int64 \n",
      "\n",
      "tem acesso         3407\n",
      "não tem acesso    57679\n",
      "Name: netTv, dtype: int64 \n",
      "\n",
      "tem acesso          464\n",
      "não tem acesso    60622\n",
      "Name: netOutros, dtype: int64 \n",
      "\n"
     ]
    }
   ],
   "source": [
    "#dados2015\n",
    "\n",
    "ut1 = (DF.netTablet.value_counts(sort=False, normalize=False)).round(decimals=1)\n",
    "print(ut1,'\\n')\n",
    "ut2 = (DF.netCelular.value_counts(sort=False, normalize=False)).round(decimals=1)\n",
    "print(ut2,'\\n')\n",
    "ut3 = (DF.netMicroComputador.value_counts(sort=False, normalize=False)).round(decimals=1)\n",
    "print(ut3,'\\n')\n",
    "ut4 = (DF.netTv.value_counts(sort=False, normalize=False)).round(decimals=1)\n",
    "print(ut4,'\\n')\n",
    "ut5 = (DF.netOutros.value_counts(sort=False, normalize=False)).round(decimals=1)\n",
    "print(ut5,'\\n')"
   ]
  },
  {
   "cell_type": "code",
   "execution_count": 7,
   "metadata": {
    "collapsed": false
   },
   "outputs": [
    {
     "name": "stdout",
     "output_type": "stream",
     "text": [
      "tem acesso        10953\n",
      "não tem acesso    50133\n",
      "Name: netTablet, dtype: int64 \n",
      "\n",
      "tem acesso        56707\n",
      "não tem acesso     4379\n",
      "Name: netCelular, dtype: int64 \n",
      "\n",
      "tem acesso        39824\n",
      "não tem acesso    21262\n",
      "Name: netMicroComputador, dtype: int64 \n",
      "\n",
      "tem acesso         3407\n",
      "não tem acesso    57679\n",
      "Name: netTv, dtype: int64 \n",
      "\n",
      "tem acesso          464\n",
      "não tem acesso    60622\n",
      "Name: netOutros, dtype: int64 \n",
      "\n"
     ]
    }
   ],
   "source": [
    "#dados201\n",
    "\n",
    "ut10 = (DF2.netTablet.value_counts(sort=False, normalize=False)).round(decimals=1)\n",
    "print(ut1,'\\n')\n",
    "ut20 = (DF2.netCelular.value_counts(sort=False, normalize=False)).round(decimals=1)\n",
    "print(ut2,'\\n')\n",
    "ut30 = (DF2.netMicroComputador.value_counts(sort=False, normalize=False)).round(decimals=1)\n",
    "print(ut3,'\\n')\n",
    "ut40 = (DF2.netTv.value_counts(sort=False, normalize=False)).round(decimals=1)\n",
    "print(ut4,'\\n')\n",
    "ut50 = (DF2.netOutros.value_counts(sort=False, normalize=False)).round(decimals=1)\n",
    "print(ut5,'\\n')"
   ]
  },
  {
   "cell_type": "code",
   "execution_count": 8,
   "metadata": {
    "collapsed": false
   },
   "outputs": [
    {
     "data": {
      "image/png": "[encoded data removed]",
      "text/plain": [
       "<matplotlib.figure.Figure at 0x1114c2400>"
      ]
     },
     "metadata": {},
     "output_type": "display_data"
    }
   ],
   "source": [
    "fig = plt.figure(figsize=(15, 5))\n",
    "plt.subplot(131)\n",
    "dados2013.Pessoas.plot(kind='pie',title='Percentual de usuarios \\n por aparelho eletronico para\\n acesso de internet em 2013',autopct='%.1f',colormap=\"Blues_r\")\n",
    "plt.subplot(132)\n",
    "dados2015.Pessoas.plot(kind='pie',title='Percentual de usuarios \\n por aparelho eletronico para\\n acesso de internet em 2015',autopct='%.1f',colormap=\"Blues_r\")\n",
    "plt.show()"
   ]
  },
  {
   "cell_type": "markdown",
   "metadata": {},
   "source": [
    " Podemos observar que o aparelho que mais cresceu no numero de usuarios foi o celular\n"
   ]
  },
  {
   "cell_type": "code",
   "execution_count": 9,
   "metadata": {
    "collapsed": false
   },
   "outputs": [
    {
     "data": {
      "image/png": "[encoded data removed]",
      "text/plain": [
       "<matplotlib.figure.Figure at 0x1114c2128>"
      ]
     },
     "metadata": {},
     "output_type": "display_data"
    },
    {
     "data": {
      "image/png": "[encoded data removed]",
      "text/plain": [
       "<matplotlib.figure.Figure at 0x11a56d278>"
      ]
     },
     "metadata": {},
     "output_type": "display_data"
    },
    {
     "data": {
      "image/png": "[encoded data removed]",
      "text/plain": [
       "<matplotlib.figure.Figure at 0x11ab85470>"
      ]
     },
     "metadata": {},
     "output_type": "display_data"
    }
   ],
   "source": [
    "crosesta=pd.crosstab(DF.netCelular,DF.Região, margins=True)\n",
    "crosesta.iloc[0:1,:5].plot.bar(colormap=\"winter\")\n",
    "crosesta.iloc[[1],:5].plot.bar(colormap=\"Reds\")\n",
    "crosminreg=pd.crosstab(DF.Região,DF.SaláriosMin, margins=True)\n",
    "crosminreg.iloc[0:5,:5].plot.bar(colormap=\"winter\")\n",
    "plt.grid=(True)\n",
    "plt.show()"
   ]
  },
  {
   "cell_type": "markdown",
   "metadata": {},
   "source": [
    "Com esses gráficos fica evidente, que no Sudeste onde a região e mais populosa e as pessoas tem mais poder finaceiro, o mercado de celulares é mais forte do que nas outras regiões."
   ]
  },
  {
   "cell_type": "code",
   "execution_count": 10,
   "metadata": {
    "collapsed": false
   },
   "outputs": [
    {
     "data": {
      "image/png": "[encoded data removed]",
      "text/plain": [
       "<matplotlib.figure.Figure at 0x11b793cf8>"
      ]
     },
     "metadata": {},
     "output_type": "display_data"
    },
    {
     "data": {
      "image/png": "[encoded data removed]",
      "text/plain": [
       "<matplotlib.figure.Figure at 0x11a1f9160>"
      ]
     },
     "metadata": {},
     "output_type": "display_data"
    }
   ],
   "source": [
    "DF.Região=\"Sudeste\"\n",
    "crosscel=pd.crosstab(DF.netCelular,DF.SaláriosMin, margins=True)\n",
    "crosscel.iloc[0:1,:7].plot.bar(colormap=\"winter\")\n",
    "crosscel=pd.crosstab(DF.netCelular,DF.situação_censitária, margins=True)\n",
    "crosscel.iloc[0:1,:2].plot.bar(colormap=\"winter\")\n",
    "crosscel=pd.crosstab(DF.Região,DF.SaláriosMin, margins=True)\n",
    "plt.show()\n"
   ]
  },
  {
   "cell_type": "markdown",
   "metadata": {
    "collapsed": false
   },
   "source": [
    "Por esses gráficos podemos concluir que o a melhor situçāo censitária é a zona urbana, e que o maior número de celulares vendidos foi para pessoas que recebém dois salários minimos. "
   ]
  },
  {
   "cell_type": "markdown",
   "metadata": {
    "collapsed": true
   },
   "source": [
    "# Conclusão:\n",
    "Podemos concluir que o celular foi o aparelho eletrônico mais usado para acessar internet, o crescimento de 15% em dois anos, deixa claro que ele é a melhor plataforma para se investir em sofwares on lines.                 Também pudemos concluir que a melhor região para o investimento foi a aréa urbana da região sudeste do país. Sendo as pessoas alvo, as que ganham entre 1.5 e 2 salários mínimos.\n"
   ]
  },
  {
   "cell_type": "code",
   "execution_count": null,
   "metadata": {
    "collapsed": false
   },
   "outputs": [],
   "source": [
    "\n"
   ]
  },
  {
   "cell_type": "code",
   "execution_count": null,
   "metadata": {
    "collapsed": true
   },
   "outputs": [],
   "source": []
  }
 ],
 "metadata": {
  "anaconda-cloud": {},
  "kernelspec": {
   "display_name": "Python 3",
   "language": "python",
   "name": "python3"
  },
  "language_info": {
   "codemirror_mode": {
    "name": "ipython",
    "version": 3
   },
   "file_extension": ".py",
   "mimetype": "text/x-python",
   "name": "python",
   "nbconvert_exporter": "python",
   "pygments_lexer": "ipython3",
   "version": "3.6.0"
  }
 },
 "nbformat": 4,
 "nbformat_minor": 1
}
