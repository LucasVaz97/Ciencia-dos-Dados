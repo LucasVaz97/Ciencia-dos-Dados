{
 "cells": [
  {
   "cell_type": "markdown",
   "metadata": {},
   "source": [
    "___\n",
    "# Ciência dos Dados - PROJETO 1"
   ]
  },
  {
   "cell_type": "markdown",
   "metadata": {},
   "source": [
    "## COLOQUE AQUI SEU NOME\n",
    "___"
   ]
  },
  {
   "cell_type": "markdown",
   "metadata": {},
   "source": [
    "## TÍTULO DO SEU PROJETO"
   ]
  },
  {
   "cell_type": "markdown",
   "metadata": {},
   "source": [
    "___\n",
    "## Introdução\n",
    "\n",
    "Descreva aqui o que pretende analisar!\n",
    "\n",
    "Capriche no português!! \n",
    "Se quiser pode utilizar pesquisas semelhantes publicadas em sites confiáveis!!\n"
   ]
  },
  {
   "cell_type": "markdown",
   "metadata": {},
   "source": [
    "___\n",
    "## Análise e Resultados"
   ]
  },
  {
   "cell_type": "code",
   "execution_count": 1,
   "metadata": {
    "collapsed": true
   },
   "outputs": [],
   "source": [
    "%matplotlib inline\n",
    "import pandas as pd\n",
    "import matplotlib.pyplot as plt\n",
    "import numpy as np\n",
    "import os"
   ]
  },
  {
   "cell_type": "code",
   "execution_count": 2,
   "metadata": {
    "collapsed": false
   },
   "outputs": [
    {
     "name": "stdout",
     "output_type": "stream",
     "text": [
      "Esperamos trabalhar no diretório\n",
      "C:\\Users\\Lucas Tarraf Vaz\\Desktop\\Ciencia-dos-Dados\n"
     ]
    }
   ],
   "source": [
    "print('Esperamos trabalhar no diretório')\n",
    "print(os.getcwd())\n"
   ]
  },
  {
   "cell_type": "code",
   "execution_count": 3,
   "metadata": {
    "collapsed": false
   },
   "outputs": [],
   "source": [
    "#Se usar o arquivo descompactado\n",
    "#pd.read_csv('DOM2015.csv',sep=',')\n",
    "dados=pd.read_csv(\"DOM2015.csv\")\n",
    "dados2=pd.read_csv(\"DOM2013.csv\")\n",
    "#Se usar o arquivo compactado como está no dropbox púbico\n",
    "#pd.read_csv('DOM2015csv.zip', compression='zip', header=0, sep=',', quotechar='\"'"
   ]
  },
  {
   "cell_type": "code",
   "execution_count": 4,
   "metadata": {
    "collapsed": false
   },
   "outputs": [
    {
     "data": {
      "text/html": [
       "<div>\n",
       "<table border=\"1\" class=\"dataframe\">\n",
       "  <thead>\n",
       "    <tr style=\"text-align: right;\">\n",
       "      <th></th>\n",
       "      <th>Ano</th>\n",
       "      <th>Estado</th>\n",
       "      <th>netCelular</th>\n",
       "      <th>netMicroComputador</th>\n",
       "      <th>netTablet</th>\n",
       "      <th>netTv</th>\n",
       "      <th>netOutros</th>\n",
       "    </tr>\n",
       "  </thead>\n",
       "  <tbody>\n",
       "    <tr>\n",
       "      <th>2</th>\n",
       "      <td>2015</td>\n",
       "      <td>11</td>\n",
       "      <td>não</td>\n",
       "      <td>sim</td>\n",
       "      <td>não</td>\n",
       "      <td>não</td>\n",
       "      <td>não</td>\n",
       "    </tr>\n",
       "    <tr>\n",
       "      <th>3</th>\n",
       "      <td>2015</td>\n",
       "      <td>11</td>\n",
       "      <td>sim</td>\n",
       "      <td>sim</td>\n",
       "      <td>não</td>\n",
       "      <td>não</td>\n",
       "      <td>não</td>\n",
       "    </tr>\n",
       "    <tr>\n",
       "      <th>5</th>\n",
       "      <td>2015</td>\n",
       "      <td>11</td>\n",
       "      <td>não</td>\n",
       "      <td>sim</td>\n",
       "      <td>não</td>\n",
       "      <td>não</td>\n",
       "      <td>não</td>\n",
       "    </tr>\n",
       "    <tr>\n",
       "      <th>8</th>\n",
       "      <td>2015</td>\n",
       "      <td>11</td>\n",
       "      <td>sim</td>\n",
       "      <td>sim</td>\n",
       "      <td>não</td>\n",
       "      <td>não</td>\n",
       "      <td>não</td>\n",
       "    </tr>\n",
       "    <tr>\n",
       "      <th>10</th>\n",
       "      <td>2015</td>\n",
       "      <td>11</td>\n",
       "      <td>sim</td>\n",
       "      <td>sim</td>\n",
       "      <td>não</td>\n",
       "      <td>não</td>\n",
       "      <td>não</td>\n",
       "    </tr>\n",
       "    <tr>\n",
       "      <th>11</th>\n",
       "      <td>2015</td>\n",
       "      <td>11</td>\n",
       "      <td>sim</td>\n",
       "      <td>sim</td>\n",
       "      <td>não</td>\n",
       "      <td>não</td>\n",
       "      <td>não</td>\n",
       "    </tr>\n",
       "    <tr>\n",
       "      <th>13</th>\n",
       "      <td>2015</td>\n",
       "      <td>11</td>\n",
       "      <td>sim</td>\n",
       "      <td>sim</td>\n",
       "      <td>não</td>\n",
       "      <td>não</td>\n",
       "      <td>não</td>\n",
       "    </tr>\n",
       "    <tr>\n",
       "      <th>15</th>\n",
       "      <td>2015</td>\n",
       "      <td>11</td>\n",
       "      <td>sim</td>\n",
       "      <td>sim</td>\n",
       "      <td>não</td>\n",
       "      <td>não</td>\n",
       "      <td>não</td>\n",
       "    </tr>\n",
       "    <tr>\n",
       "      <th>17</th>\n",
       "      <td>2015</td>\n",
       "      <td>11</td>\n",
       "      <td>sim</td>\n",
       "      <td>não</td>\n",
       "      <td>sim</td>\n",
       "      <td>não</td>\n",
       "      <td>não</td>\n",
       "    </tr>\n",
       "    <tr>\n",
       "      <th>18</th>\n",
       "      <td>2015</td>\n",
       "      <td>11</td>\n",
       "      <td>sim</td>\n",
       "      <td>sim</td>\n",
       "      <td>não</td>\n",
       "      <td>não</td>\n",
       "      <td>não</td>\n",
       "    </tr>\n",
       "  </tbody>\n",
       "</table>\n",
       "</div>"
      ],
      "text/plain": [
       "     Ano  Estado netCelular netMicroComputador netTablet netTv netOutros\n",
       "2   2015      11        não                sim       não   não       não\n",
       "3   2015      11        sim                sim       não   não       não\n",
       "5   2015      11        não                sim       não   não       não\n",
       "8   2015      11        sim                sim       não   não       não\n",
       "10  2015      11        sim                sim       não   não       não\n",
       "11  2015      11        sim                sim       não   não       não\n",
       "13  2015      11        sim                sim       não   não       não\n",
       "15  2015      11        sim                sim       não   não       não\n",
       "17  2015      11        sim                não       sim   não       não\n",
       "18  2015      11        sim                sim       não   não       não"
      ]
     },
     "execution_count": 4,
     "metadata": {},
     "output_type": "execute_result"
    }
   ],
   "source": [
    "#Filtrando dados desejados\n",
    "\n",
    "netcell=dados.V02324\n",
    "netcomp=dados.V02323\n",
    "nettablet=dados.V02325\n",
    "nettv=dados.V02326\n",
    "netoutro=dados.V02327\n",
    "estado=dados.UF\n",
    "ano=dados.V0101\n",
    "\n",
    "#novo data frame\n",
    "\n",
    "DF = pd.DataFrame()\n",
    "\n",
    "#Dando nomes\n",
    "\n",
    "DF[\"Ano\"]=ano\n",
    "DF[\"Estado\"]=estado\n",
    "DF[\"netCelular\"]=netcell\n",
    "DF[\"netMicroComputador\"]=netcomp\n",
    "DF[\"netTablet\"]=nettablet\n",
    "DF[\"netTv\"]=nettv\n",
    "DF[\"netOutros\"]=netoutro\n",
    "\n",
    "#transformando variaveis\n",
    "\n",
    "DF.Ano=DF.Ano.astype(\"category\")\n",
    "DF.estado=DF.Estado.astype(\"category\")\n",
    "DF.netCelular=DF.netCelular.astype(\"category\")\n",
    "DF.netMicroComputador=DF.netMicroComputador.astype(\"category\")\n",
    "DF.netTablet=DF.netTablet.astype(\"category\")\n",
    "DF.netTv=DF.netTv.astype(\"category\")\n",
    "DF.netOutros=DF.netOutros.astype(\"category\")\n",
    "\n",
    "\n",
    "#Traduzindo Numeros\n",
    "\n",
    "DF.netCelular.cat.categories = ([\"sim\", \"não\"])\n",
    "DF.netMicroComputador.cat.categories = ([\"sim\", \"não\"])\n",
    "DF.netTablet.cat.categories = ([\"sim\", \"não\"])\n",
    "DF.netTv.cat.categories = ([\"sim\", \"não\"])\n",
    "DF.netOutros.cat.categories = ([\"sim\", \"não\"])\n",
    "DF=DF.dropna(how='any')\n",
    "DF.head(10)"
   ]
  },
  {
   "cell_type": "code",
   "execution_count": 5,
   "metadata": {
    "collapsed": false
   },
   "outputs": [
    {
     "data": {
      "text/html": [
       "<div>\n",
       "<table border=\"1\" class=\"dataframe\">\n",
       "  <thead>\n",
       "    <tr style=\"text-align: right;\">\n",
       "      <th></th>\n",
       "      <th>Ano</th>\n",
       "      <th>Estado</th>\n",
       "      <th>netCelular</th>\n",
       "      <th>netMicroComputador</th>\n",
       "      <th>netTablet</th>\n",
       "      <th>netTv</th>\n",
       "      <th>netOutros</th>\n",
       "    </tr>\n",
       "  </thead>\n",
       "  <tbody>\n",
       "    <tr>\n",
       "      <th>7</th>\n",
       "      <td>2013</td>\n",
       "      <td>11</td>\n",
       "      <td>sim</td>\n",
       "      <td>sim</td>\n",
       "      <td>não</td>\n",
       "      <td>não</td>\n",
       "      <td>não</td>\n",
       "    </tr>\n",
       "    <tr>\n",
       "      <th>8</th>\n",
       "      <td>2013</td>\n",
       "      <td>11</td>\n",
       "      <td>sim</td>\n",
       "      <td>sim</td>\n",
       "      <td>não</td>\n",
       "      <td>não</td>\n",
       "      <td>não</td>\n",
       "    </tr>\n",
       "    <tr>\n",
       "      <th>9</th>\n",
       "      <td>2013</td>\n",
       "      <td>11</td>\n",
       "      <td>sim</td>\n",
       "      <td>não</td>\n",
       "      <td>não</td>\n",
       "      <td>não</td>\n",
       "      <td>não</td>\n",
       "    </tr>\n",
       "    <tr>\n",
       "      <th>17</th>\n",
       "      <td>2013</td>\n",
       "      <td>11</td>\n",
       "      <td>não</td>\n",
       "      <td>sim</td>\n",
       "      <td>não</td>\n",
       "      <td>não</td>\n",
       "      <td>não</td>\n",
       "    </tr>\n",
       "    <tr>\n",
       "      <th>22</th>\n",
       "      <td>2013</td>\n",
       "      <td>11</td>\n",
       "      <td>não</td>\n",
       "      <td>sim</td>\n",
       "      <td>não</td>\n",
       "      <td>não</td>\n",
       "      <td>não</td>\n",
       "    </tr>\n",
       "    <tr>\n",
       "      <th>24</th>\n",
       "      <td>2013</td>\n",
       "      <td>11</td>\n",
       "      <td>não</td>\n",
       "      <td>sim</td>\n",
       "      <td>não</td>\n",
       "      <td>não</td>\n",
       "      <td>não</td>\n",
       "    </tr>\n",
       "    <tr>\n",
       "      <th>28</th>\n",
       "      <td>2013</td>\n",
       "      <td>11</td>\n",
       "      <td>não</td>\n",
       "      <td>sim</td>\n",
       "      <td>não</td>\n",
       "      <td>não</td>\n",
       "      <td>não</td>\n",
       "    </tr>\n",
       "    <tr>\n",
       "      <th>29</th>\n",
       "      <td>2013</td>\n",
       "      <td>11</td>\n",
       "      <td>não</td>\n",
       "      <td>sim</td>\n",
       "      <td>sim</td>\n",
       "      <td>não</td>\n",
       "      <td>não</td>\n",
       "    </tr>\n",
       "    <tr>\n",
       "      <th>31</th>\n",
       "      <td>2013</td>\n",
       "      <td>11</td>\n",
       "      <td>sim</td>\n",
       "      <td>sim</td>\n",
       "      <td>não</td>\n",
       "      <td>não</td>\n",
       "      <td>não</td>\n",
       "    </tr>\n",
       "    <tr>\n",
       "      <th>32</th>\n",
       "      <td>2013</td>\n",
       "      <td>11</td>\n",
       "      <td>não</td>\n",
       "      <td>sim</td>\n",
       "      <td>não</td>\n",
       "      <td>não</td>\n",
       "      <td>não</td>\n",
       "    </tr>\n",
       "  </tbody>\n",
       "</table>\n",
       "</div>"
      ],
      "text/plain": [
       "     Ano  Estado netCelular netMicroComputador netTablet netTv netOutros\n",
       "7   2013      11        sim                sim       não   não       não\n",
       "8   2013      11        sim                sim       não   não       não\n",
       "9   2013      11        sim                não       não   não       não\n",
       "17  2013      11        não                sim       não   não       não\n",
       "22  2013      11        não                sim       não   não       não\n",
       "24  2013      11        não                sim       não   não       não\n",
       "28  2013      11        não                sim       não   não       não\n",
       "29  2013      11        não                sim       sim   não       não\n",
       "31  2013      11        sim                sim       não   não       não\n",
       "32  2013      11        não                sim       não   não       não"
      ]
     },
     "execution_count": 5,
     "metadata": {},
     "output_type": "execute_result"
    }
   ],
   "source": [
    "#Filtrando dados desejados\n",
    "\n",
    "netcell2=dados2.V02324\n",
    "netcomp2=dados2.V02323\n",
    "nettablet2=dados2.V02325\n",
    "nettv2=dados2.V02326\n",
    "netoutro2=dados2.V02327\n",
    "estado2=dados2.UF\n",
    "ano2=dados2.V0101\n",
    "\n",
    "#novo data frame\n",
    "\n",
    "DF2 = pd.DataFrame()\n",
    "\n",
    "#Dando nomes\n",
    "\n",
    "DF2[\"Ano\"]=ano2\n",
    "DF2[\"Estado\"]=estado2\n",
    "DF2[\"netCelular\"]=netcell2\n",
    "DF2[\"netMicroComputador\"]=netcomp2\n",
    "DF2[\"netTablet\"]=nettablet2\n",
    "DF2[\"netTv\"]=nettv2\n",
    "DF2[\"netOutros\"]=netoutro2\n",
    "\n",
    "\n",
    "#transformando variaveis\n",
    "\n",
    "DF2.Ano=DF2.Ano.astype(\"category\")\n",
    "DF2.estado=DF2.Estado.astype(\"category\")\n",
    "DF2.netCelular=DF2.netCelular.astype(\"category\")\n",
    "DF2.netMicroComputador=DF2.netMicroComputador.astype(\"category\")\n",
    "DF2.netTablet=DF2.netTablet.astype(\"category\")\n",
    "DF2.netTv=DF2.netTv.astype(\"category\")\n",
    "DF2.netOutros=DF2.netOutros.astype(\"category\")\n",
    "\n",
    "\n",
    "#Traduzindo Numeros\n",
    "\n",
    "DF2.netCelular.cat.categories = ([\"sim\", \"não\"])\n",
    "DF2.netMicroComputador.cat.categories = ([\"sim\", \"não\"])\n",
    "DF2.netTablet.cat.categories = ([\"sim\", \"não\"])\n",
    "DF2.netTv.cat.categories = ([\"sim\", \"não\"])\n",
    "DF2.netOutros.cat.categories = ([\"sim\", \"não\"])\n",
    "DF2=DF2.dropna(how=\"any\")\n",
    "DF2.head(10)"
   ]
  },
  {
   "cell_type": "markdown",
   "metadata": {},
   "source": [
    "___\n",
    "## Conclusão "
   ]
  },
  {
   "cell_type": "markdown",
   "metadata": {
    "collapsed": true
   },
   "source": [
    "Descreva aqui suas conclusões!"
   ]
  },
  {
   "cell_type": "code",
   "execution_count": 12,
   "metadata": {
    "collapsed": false
   },
   "outputs": [
    {
     "name": "stdout",
     "output_type": "stream",
     "text": [
      "sim    13884\n",
      "não    53950\n",
      "Name: netTablet, dtype: int64 \n",
      "\n",
      "sim    62996\n",
      "não     4838\n",
      "Name: netCelular, dtype: int64 \n",
      "\n",
      "sim    45945\n",
      "não    21889\n",
      "Name: netMicroComputador, dtype: int64 \n",
      "\n",
      "sim     4908\n",
      "não    62926\n",
      "Name: netTv, dtype: int64 \n",
      "\n",
      "sim      641\n",
      "não    67193\n",
      "Name: netOutros, dtype: int64 \n",
      "\n"
     ]
    },
    {
     "data": {
      "image/png": "[encoded data removed]",
      "text/plain": [
       "<matplotlib.figure.Figure at 0x1d4ddcfa710>"
      ]
     },
     "metadata": {},
     "output_type": "display_data"
    }
   ],
   "source": [
    "ut1 = (DF.netTablet.value_counts(sort=False, normalize=False)).round(decimals=1)\n",
    "print(ut1,'\\n')\n",
    "ut2 = (DF.netCelular.value_counts(sort=False, normalize=False)).round(decimals=1)\n",
    "print(ut2,'\\n')\n",
    "ut3 = (DF.netMicroComputador.value_counts(sort=False, normalize=False)).round(decimals=1)\n",
    "print(ut3,'\\n')\n",
    "ut4 = (DF.netTv.value_counts(sort=False, normalize=False)).round(decimals=1)\n",
    "print(ut4,'\\n')\n",
    "ut5 = (DF.netOutros.value_counts(sort=False, normalize=False)).round(decimals=1)\n",
    "print(ut5,'\\n')\n",
    "\n",
    "fig = plt.figure(figsize=(15, 5))\n",
    "\n",
    "plt.subplot(131)\n",
    "\n",
    "plot = ut1.plot(kind='pie',title='Tablet',autopct='%.1f')\n",
    "\n",
    "plt.subplot(132)\n",
    "plot = ut2.plot(kind='pie',title='Celular',autopct='%.1f')\n",
    "\n",
    "plt.subplot(133)\n",
    "plot = ut3.plot(kind='pie',title='Computador',autopct='%.1f')\n",
    "\n"
   ]
  },
  {
   "cell_type": "code",
   "execution_count": 13,
   "metadata": {
    "collapsed": false
   },
   "outputs": [
    {
     "data": {
      "image/png": "[encoded data removed]",
      "text/plain": [
       "<matplotlib.figure.Figure at 0x1d4de53d668>"
      ]
     },
     "metadata": {},
     "output_type": "display_data"
    }
   ],
   "source": [
    "fig = plt.figure(figsize=(15, 5))\n",
    "\n",
    "plt.subplot(131)\n",
    "\n",
    "plot = ut4.plot(kind='pie',title='TV',autopct='%.1f')\n",
    "\n",
    "\n",
    "plt.subplot(132)\n",
    "plot = ut5.plot(kind='pie',title='Outros',autopct='%.1f')\n",
    "\n",
    "plt.show()"
   ]
  },
  {
   "cell_type": "code",
   "execution_count": 15,
   "metadata": {
    "collapsed": false
   },
   "outputs": [
    {
     "name": "stdout",
     "output_type": "stream",
     "text": [
      "sim     9220\n",
      "não    45870\n",
      "Name: netTablet, dtype: int64 \n",
      "\n",
      "sim    30741\n",
      "não    24349\n",
      "Name: netCelular, dtype: int64 \n",
      "\n",
      "sim    47863\n",
      "não     7227\n",
      "Name: netMicroComputador, dtype: int64 \n",
      "\n",
      "sim     1486\n",
      "não    53604\n",
      "Name: netTv, dtype: int64 \n",
      "\n",
      "sim      365\n",
      "não    54725\n",
      "Name: netOutros, dtype: int64 \n",
      "\n"
     ]
    },
    {
     "data": {
      "image/png": "[encoded data removed]",
      "text/plain": [
       "<matplotlib.figure.Figure at 0x1d4de54f3c8>"
      ]
     },
     "metadata": {},
     "output_type": "display_data"
    }
   ],
   "source": [
    "ut1 = (DF2.netTablet.value_counts(sort=False, normalize=False)).round(decimals=1)\n",
    "print(ut1,'\\n')\n",
    "ut2 = (DF2.netCelular.value_counts(sort=False, normalize=False)).round(decimals=1)\n",
    "print(ut2,'\\n')\n",
    "ut3 = (DF2.netMicroComputador.value_counts(sort=False, normalize=False)).round(decimals=1)\n",
    "print(ut3,'\\n')\n",
    "ut4 = (DF2.netTv.value_counts(sort=False, normalize=False)).round(decimals=1)\n",
    "print(ut4,'\\n')\n",
    "ut5 = (DF2.netOutros.value_counts(sort=False, normalize=False)).round(decimals=1)\n",
    "print(ut5,'\\n')\n",
    "\n",
    "fig = plt.figure(figsize=(15, 5))\n",
    "\n",
    "plt.subplot(131)\n",
    "\n",
    "plot = ut1.plot(kind='pie',title='Tablet',autopct='%.1f')\n",
    "\n",
    "plt.subplot(132)\n",
    "plot = ut2.plot(kind='pie',title='Celular',autopct='%.1f')\n",
    "\n",
    "plt.subplot(133)\n",
    "plot = ut3.plot(kind='pie',title='Computador',autopct='%.1f')"
   ]
  },
  {
   "cell_type": "code",
   "execution_count": 16,
   "metadata": {
    "collapsed": false
   },
   "outputs": [
    {
     "data": {
      "image/png": "[encoded data removed]",
      "text/plain": [
       "<matplotlib.figure.Figure at 0x1d4de552a90>"
      ]
     },
     "metadata": {},
     "output_type": "display_data"
    }
   ],
   "source": [
    "fig = plt.figure(figsize=(15, 5))\n",
    "\n",
    "plt.subplot(131)\n",
    "\n",
    "plot = ut4.plot(kind='pie',title='TV',autopct='%.1f')\n",
    "\n",
    "\n",
    "plt.subplot(132)\n",
    "plot = ut5.plot(kind='pie',title='Outros',autopct='%.1f')\n",
    "\n",
    "\n",
    "plt.show()"
   ]
  },
  {
   "cell_type": "code",
   "execution_count": null,
   "metadata": {
    "collapsed": false
   },
   "outputs": [],
   "source": []
  },
  {
   "cell_type": "code",
   "execution_count": null,
   "metadata": {
    "collapsed": false
   },
   "outputs": [],
   "source": []
  },
  {
   "cell_type": "code",
   "execution_count": null,
   "metadata": {
    "collapsed": true
   },
   "outputs": [],
   "source": []
  },
  {
   "cell_type": "code",
   "execution_count": null,
   "metadata": {
    "collapsed": true
   },
   "outputs": [],
   "source": []
  }
 ],
 "metadata": {
  "anaconda-cloud": {},
  "kernelspec": {
   "display_name": "Python 3",
   "language": "python",
   "name": "python3"
  },
  "language_info": {
   "codemirror_mode": {
    "name": "ipython",
    "version": 3
   },
   "file_extension": ".py",
   "mimetype": "text/x-python",
   "name": "python",
   "nbconvert_exporter": "python",
   "pygments_lexer": "ipython3",
   "version": "3.6.0"
  }
 },
 "nbformat": 4,
 "nbformat_minor": 1
}
